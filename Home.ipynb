{
 "cells": [
  {
   "cell_type": "markdown",
   "id": "a1518120",
   "metadata": {},
   "source": [
    "[Voetbal](Soccer.ipynb)\n",
    "\n",
    "[F1](F1.ipynb)\n",
    "\n",
    "[F1 (4 tabellen)](F1_4tables.ipynb)"
   ]
  }
 ],
 "metadata": {
  "kernelspec": {
   "display_name": "Python 3 (ipykernel)",
   "language": "python",
   "name": "python3"
  },
  "language_info": {
   "codemirror_mode": {
    "name": "ipython",
    "version": 3
   },
   "file_extension": ".py",
   "mimetype": "text/x-python",
   "name": "python",
   "nbconvert_exporter": "python",
   "pygments_lexer": "ipython3",
   "version": "3.10.8"
  }
 },
 "nbformat": 4,
 "nbformat_minor": 5
}
